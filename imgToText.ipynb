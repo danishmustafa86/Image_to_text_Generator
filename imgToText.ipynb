{
  "cells": [
    {
      "cell_type": "markdown",
      "metadata": {
        "id": "view-in-github",
        "colab_type": "text"
      },
      "source": [
        "<a href=\"https://colab.research.google.com/github/danishmustafa86/Image_to_text_Generator/blob/main/imgToText.ipynb\" target=\"_parent\"><img src=\"https://colab.research.google.com/assets/colab-badge.svg\" alt=\"Open In Colab\"/></a>"
      ]
    },
    {
      "cell_type": "markdown",
      "metadata": {
        "id": "XiHeEnDBGebp"
      },
      "source": []
    },
    {
      "cell_type": "code",
      "execution_count": null,
      "metadata": {
        "colab": {
          "base_uri": "https://localhost:8080/"
        },
        "id": "NX6j7542LoVB",
        "outputId": "b441e98e-0ce8-4bd2-ab3f-7ba8e4b9316d"
      },
      "outputs": [
        {
          "name": "stdout",
          "output_type": "stream",
          "text": [
            "a picture of a tall building lit up at night with a river below\n"
          ]
        }
      ],
      "source": [
        "from PIL import Image\n",
        "import requests\n",
        "\n",
        "from transformers import AutoProcessor, BlipForConditionalGeneration\n",
        "from transformers import AutoProcessor, BlipForConditionalGeneration\n",
        "\n",
        "processor = AutoProcessor.from_pretrained(\"Salesforce/blip-image-captioning-large\")\n",
        "model = BlipForConditionalGeneration.from_pretrained(\"Salesforce/blip-image-captioning-large\")\n",
        "url = \"https://www.shutterstock.com/shutterstock/photos/2158380095/display_1500/stock-photo-pyramid-complex-in-aswan-city-by-the-nile-aerial-view-egypt-2158380095.jpg\"\n",
        "url = \"https://juliasalbum.com/wp-content/uploads/2019/07/Burj-Khalifa-at-night-2.jpg\"\n",
        "image = Image.open(requests.get(url, stream=True).raw)\n",
        "text = \"A picture of\"\n",
        "inputs = processor(images=image, text=text, return_tensors=\"pt\")\n",
        "# Generate caption\n",
        "outputs = model.generate(**inputs)\n",
        "print(processor.decode(outputs[0], skip_special_tokens=True))"
      ]
    }
  ],
  "metadata": {
    "colab": {
      "provenance": [],
      "authorship_tag": "ABX9TyPy1NTfStAY6ncpfuvkgG1U",
      "include_colab_link": true
    },
    "kernelspec": {
      "display_name": "Python 3",
      "name": "python3"
    },
    "language_info": {
      "name": "python"
    }
  },
  "nbformat": 4,
  "nbformat_minor": 0
}